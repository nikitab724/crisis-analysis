{
 "cells": [
  {
   "cell_type": "code",
   "execution_count": 1,
   "id": "6720253d-70e2-42e6-92cb-a947825e1b56",
   "metadata": {},
   "outputs": [],
   "source": [
    "import pandas as pd\n",
    "import spacy\n",
    "from collections import Counter \n",
    "import numpy as np"
   ]
  },
  {
   "cell_type": "code",
   "execution_count": 2,
   "id": "4d69fe73-8c3d-447f-b10d-87e773e5ebce",
   "metadata": {},
   "outputs": [],
   "source": [
    "NER = spacy.load('en_core_web_sm')"
   ]
  },
  {
   "cell_type": "code",
   "execution_count": 4,
   "id": "76f4d8f3-1ec8-4824-9ef1-cdf00ea65dd2",
   "metadata": {},
   "outputs": [],
   "source": [
    "df = pd.read_csv(\"data/california_wildfires_final_data.tsv\", sep=\"\\t\")\n",
    "df = df[[\"tweet_id\", \"tweet_text\"]]\n",
    "df1 = df.head()"
   ]
  },
  {
   "cell_type": "code",
   "execution_count": 5,
   "id": "a6467fe7-d754-421d-8689-da93944c7836",
   "metadata": {},
   "outputs": [
    {
     "name": "stdout",
     "output_type": "stream",
     "text": [
      "RT @Gizmodo: Wildfires raging through Northern California are terrifying https://t.co/dI73RFzX2i https://t.co/k4KnvIimsU\n",
      "['Northern California']\n",
      "PHOTOS: Deadly wildfires rage in California https://t.co/td9xT3vXOL https://t.co/OimwAncLew\n",
      "['California']\n",
      "RT @Cal_OES: PLS SHARE: Weâ€™re capturing wildfire response, recovery info here: https://t.co/r89LKpjLPj https://t.co/HiA1oQF2Ax\n",
      "[]\n",
      "RT @Cal_OES: PLS SHARE: Weâ€™re capturing wildfire response, recovery info here: https://t.co/r89LKpjLPj https://t.co/HiA1oQF2Ax\n",
      "[]\n",
      "RT @TIME: California's raging wildfires as you've never seen them before https://t.co/OksQOZ2LHH https://t.co/oHTMbrM2Jx\n",
      "['California', 'https://t.co/OksQOZ2LHH']\n",
      "Extracted locations:  {0: ['Northern California'], 1: ['California'], 2: [], 3: [], 4: ['California', 'https://t.co/OksQOZ2LHH']}\n",
      "Location counts:  Counter({'California': 2, 'Northern California': 1, 'https://t.co/OksQOZ2LHH': 1})\n"
     ]
    }
   ],
   "source": [
    "def extract_locations(text):\n",
    "    doc = NER(text)\n",
    "    return [ent.text for ent in doc.ents if ent.label_ == \"GPE\" or ent.label_ == \"LOC\"]\n",
    "\n",
    "location_dict = {}\n",
    "for i in range(len(df1)):\n",
    "    locations = extract_locations(df1.loc[i, \"tweet_text\"])\n",
    "    location_dict[i] = locations\n",
    "    print(df1.loc[i, \"tweet_text\"])\n",
    "    print(location_dict[i])\n",
    "\n",
    "all_locations = [loc for locs in location_dict.values() for loc in locs]\n",
    "\n",
    "location_counts = Counter(all_locations)\n",
    "\n",
    "print(\"Extracted locations: \", location_dict)\n",
    "print(\"Location counts: \", location_counts)"
   ]
  }
 ],
 "metadata": {
  "kernelspec": {
   "display_name": "Python 3 (ipykernel)",
   "language": "python",
   "name": "python3"
  },
  "language_info": {
   "codemirror_mode": {
    "name": "ipython",
    "version": 3
   },
   "file_extension": ".py",
   "mimetype": "text/x-python",
   "name": "python",
   "nbconvert_exporter": "python",
   "pygments_lexer": "ipython3",
   "version": "3.12.9"
  }
 },
 "nbformat": 4,
 "nbformat_minor": 5
}
