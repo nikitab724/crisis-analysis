{
 "cells": [
  {
   "cell_type": "code",
   "execution_count": 2,
   "id": "6720253d-70e2-42e6-92cb-a947825e1b56",
   "metadata": {},
   "outputs": [],
   "source": [
    "import pandas as pd\n",
    "import spacy\n",
    "import glob\n",
    "import os\n",
    "from collections import Counter \n",
    "import numpy as np\n",
    "from spacy.lang.en import English\n",
    "from spacy.lookups import Lookups\n",
    "from spacy.pipeline import EntityRuler\n",
    "from spacytextblob.spacytextblob import SpacyTextBlob\n",
    "import json\n",
    "import sklearn\n",
    "import matplotlib.pyplot as plt"
   ]
  },
  {
   "cell_type": "code",
   "execution_count": 3,
   "id": "cf60be7d-c377-4fc7-bc62-7c96bc44d3ee",
   "metadata": {},
   "outputs": [
    {
     "name": "stdout",
     "output_type": "stream",
     "text": [
      "['../data/california_wildfires_final_data.json', '../data/hurricane_harvey_final_data.json', '../data/hurricane_irma_final_data.json', '../data/hurricane_maria_final_data.json', '../data/iraq_iran_earthquake_final_data.json', '../data/mexico_earthquake_final_data.json', '../data/srilanka_floods_final_data.json']\n",
      "                 tweet_id                                         tweet_text\n",
      "0      917791044158185472  RT @Gizmodo: Wildfires raging through Northern...\n",
      "1      917791130590183424      PHOTOS: Deadly wildfires rage in California  \n",
      "2      917791291823591424  RT @Cal_OES: PLS SHARE: Were capturing wildfir...\n",
      "3      917791291823591424  RT @Cal_OES: PLS SHARE: Were capturing wildfir...\n",
      "4      917792092100988928  RT @TIME: California's raging wildfires as you...\n",
      "...                   ...                                                ...\n",
      "18077  881714673157980160                Get to mora and try the whole menu \n",
      "18078  881749861871362048  Mirka Mora (b.1928), noted French-born Austral...\n",
      "18079  881770990556131328  @PaulMalignaggi Lol What u on about, Sergio Mo...\n",
      "18080  881807298930368512  #Cameroon : 4 #female suicide #Bombers kill 1 ...\n",
      "18081  881832452989140992  RT @saakey6251413: it happened during the visi...\n",
      "\n",
      "[18082 rows x 2 columns]\n"
     ]
    }
   ],
   "source": [
    "def load_data(file):\n",
    "    with open(file, \"r\", encoding=\"utf-8\") as f:\n",
    "        data = json.load(f)\n",
    "    return data\n",
    "\n",
    "\n",
    "all_files = glob.glob(\"../data/*.json\")\n",
    "print(all_files)\n",
    "\n",
    "li = []\n",
    "for file in all_files:\n",
    "    data = pd.read_json(file)\n",
    "    li.append(data)\n",
    "\n",
    "temp = pd.concat(li, ignore_index=True)\n",
    "df = temp[[\"tweet_id\", \"tweet_text\"]]\n",
    "print(df)\n",
    "\n",
    "#d_types = load_data(\"../data/disasters/disaster_types.json\")"
   ]
  },
  {
   "cell_type": "code",
   "execution_count": 44,
   "id": "f4e94bd0-6bd6-411f-938e-c200844d0475",
   "metadata": {},
   "outputs": [
    {
     "name": "stdout",
     "output_type": "stream",
     "text": [
      "   geonameid                 name            asciiname  alternatenames  \\\n",
      "0    2130830          Middle Reef          Middle Reef            <NA>   \n",
      "1    2130833        McArthur Reef        McArthur Reef            <NA>   \n",
      "2    2130890          Buldir Reef          Buldir Reef            <NA>   \n",
      "3    3577483          The Narrows          The Narrows     The Narrows   \n",
      "4    3715657  Cape Lookout Shoals  Cape Lookout Shoals  Lookout Shoals   \n",
      "\n",
      "   latitude  longitude featureClass featureCode countryCode   cc2 admin1Code  \\\n",
      "0  51.98414  176.01982            U         RFU          US  <NA>         AK   \n",
      "1  52.06667  177.86667            U         RFU          US  <NA>         AK   \n",
      "2  52.15229  176.35675            U         RFU          US  <NA>         AK   \n",
      "3  18.37502  -64.72517            H         CHN          US    VG         00   \n",
      "4  34.51206  -76.49326            H        SHOL          US  <NA>         NC   \n",
      "\n",
      "  admin2Code admin3Code admin4Code  population  elevation   dem  \\\n",
      "0       <NA>       <NA>       <NA>           0        NaN -9999   \n",
      "1        016       <NA>       <NA>           0        NaN -9999   \n",
      "2       <NA>       <NA>       <NA>           0        NaN -9999   \n",
      "3       <NA>       <NA>       <NA>           0        NaN -9999   \n",
      "4        031      91396       <NA>           0        NaN -9999   \n",
      "\n",
      "            timezone modificationDate    alternate_list  \n",
      "0               <NA>       2022-05-25                []  \n",
      "1     Asia/Kamchatka       2016-07-05                []  \n",
      "2               <NA>       2022-05-25                []  \n",
      "3  America/St_Thomas       2018-11-06     [The Narrows]  \n",
      "4   America/New_York       2022-05-24  [Lookout Shoals]  \n"
     ]
    }
   ],
   "source": [
    "#load gazetteer\n",
    "\n",
    "columns = [\n",
    "    \"geonameid\",\n",
    "    \"name\",\n",
    "    \"asciiname\",\n",
    "    \"alternatenames\",\n",
    "    \"latitude\",\n",
    "    \"longitude\",\n",
    "    \"featureClass\",\n",
    "    \"featureCode\",\n",
    "    \"countryCode\",\n",
    "    \"cc2\",\n",
    "    \"admin1Code\",\n",
    "    \"admin2Code\",\n",
    "    \"admin3Code\",\n",
    "    \"admin4Code\",\n",
    "    \"population\",\n",
    "    \"elevation\",\n",
    "    \"dem\",\n",
    "    \"timezone\",\n",
    "    \"modificationDate\"\n",
    "]\n",
    "\n",
    "dtypes = {\n",
    "    \"geonameid\": \"int64\",\n",
    "    \"name\": \"string\",\n",
    "    \"asciiname\": \"string\",\n",
    "    \"alternatenames\": \"string\",\n",
    "    \"latitude\": \"float64\",\n",
    "    \"longitude\": \"float64\",\n",
    "    \"featureClass\": \"string\",\n",
    "    \"featureCode\": \"string\",\n",
    "    \"countryCode\": \"string\",\n",
    "    \"cc2\": \"string\",\n",
    "    \"admin1Code\": \"string\",\n",
    "    \"admin2Code\": \"string\",\n",
    "    \"admin3Code\": \"string\",\n",
    "    \"admin4Code\": \"string\",\n",
    "    \"population\": \"int64\",\n",
    "    \"elevation\": \"float64\",      # or \"Int64\" if you want nullable integer\n",
    "    \"dem\": \"int64\",\n",
    "    \"timezone\": \"string\",\n",
    "    \"modificationDate\": \"string\" # Could parse as date later doesn't matter too much though\n",
    "}\n",
    "\n",
    "gazetteer_df = pd.read_csv(\"../data/US.txt\", \n",
    "                           sep=\"\\t\",\n",
    "                          names=columns,\n",
    "                          dtype=dtypes,\n",
    "                          header=None,\n",
    "                          low_memory=False)\n",
    "\n",
    "gazetteer_df[\"alternate_list\"] = gazetteer_df[\"alternatenames\"] \\\n",
    "    .fillna(\"\") \\\n",
    "    .apply(lambda x: x.split(\",\"))\n",
    "\n",
    "print(gazetteer_df.head())"
   ]
  },
  {
   "cell_type": "code",
   "execution_count": 53,
   "id": "f71aba6a-6633-4350-a3c5-8886b281bfdf",
   "metadata": {},
   "outputs": [],
   "source": [
    "#standardize locations thru gazetteer with cache for efficiency\n",
    "location_cache = {}\n",
    "\n",
    "def standardize_location(loc_text: str, gazetteer: pd.DataFrame):\n",
    "    if not loc_text:\n",
    "        return None\n",
    "\n",
    "    normed = loc_text.strip().lower()\n",
    "\n",
    "    #check cache\n",
    "    if normed in location_cache:\n",
    "        return location_cache[normed]\n",
    "\n",
    "    #else do lookup\n",
    "    matches = gazetteer[\n",
    "        (gazetteer[\"name\"].str.lower() == normed) |\n",
    "        (gazetteer[\"alternate_list\"].apply(lambda alts: any(a.lower() == normed for a in alts)))\n",
    "    ]\n",
    "\n",
    "    if not matches:\n",
    "        location_cache[normed] = None\n",
    "        return None\n",
    "\n",
    "    best_match = matches.sort_values(\"population\", ascending=False).iloc[0]\n",
    "    location_cache[normed] = best_match\n",
    "    \n",
    "    return best_match"
   ]
  },
  {
   "cell_type": "code",
   "execution_count": 4,
   "id": "423f2f6d-910f-488b-bccc-a99a1abefedc",
   "metadata": {
    "scrolled": true
   },
   "outputs": [
    {
     "name": "stdout",
     "output_type": "stream",
     "text": [
      "Total patterns added: 102\n",
      "Sample patterns: [{'label': 'DISASTER', 'pattern': [{'LEMMA': 'earthquake'}]}, {'label': 'DISASTER', 'pattern': [{'LEMMA': 'seismic'}, {'LEMMA': 'event'}]}, {'label': 'DISASTER', 'pattern': [{'LEMMA': 'tremor'}]}, {'label': 'DISASTER', 'pattern': [{'LEMMA': 'tsunami'}]}, {'label': 'DISASTER', 'pattern': [{'LEMMA': 'tidal'}, {'LEMMA': 'wave'}]}]\n"
     ]
    }
   ],
   "source": [
    "nlp = spacy.load(\"en_core_web_lg\", disable=[\"parser\"])\n",
    "\n",
    "def create_training_data(file, type):\n",
    "    data = load_data(file)\n",
    "    disasters = data[\"disasters\"]\n",
    "    patterns = []\n",
    "    for item in disasters:\n",
    "        doc = nlp(item)\n",
    "        #print(item)\n",
    "        pattern_tokens = [{\"LEMMA\": token.lemma_.lower()} for token in doc]\n",
    "        #print(pattern_tokens)\n",
    "        \n",
    "        patterns.append({\"label\": type, \"pattern\": pattern_tokens})\n",
    "    return patterns\n",
    "\n",
    "{\"label\": \"DISASTER\", \"pattern\": [{\"lemma\": \"wildfire\"}]}\n",
    "\n",
    "def generate_rules_n_lemma(patterns):\n",
    "    ruler = nlp.add_pipe(\"entity_ruler\", before=\"ner\")\n",
    "    ruler.add_patterns(patterns)\n",
    "\n",
    "    try:\n",
    "        nlp.add_pipe('spacytextblob')\n",
    "    except Exception as e:\n",
    "        print(f\"Unable to add textblob: {e}\")\n",
    "        \n",
    "    \n",
    "    print(f\"Total patterns added: {len(ruler.patterns)}\")\n",
    "    print(f\"Sample patterns: {ruler.patterns[:5]}\")  # Print first 5 to verify\n",
    "    \n",
    "    nlp.to_disk(\"disaster_ner\")\n",
    "\n",
    "patterns = create_training_data(\"../data/disasters/disaster_types.json\", \"DISASTER\")\n",
    "generate_rules_n_lemma(patterns)"
   ]
  },
  {
   "cell_type": "code",
   "execution_count": 24,
   "id": "3f0c6a6e-cd87-45e1-b7ef-679ec5e3a802",
   "metadata": {
    "scrolled": true
   },
   "outputs": [
    {
     "name": "stdout",
     "output_type": "stream",
     "text": [
      "Entity lemma: wildfire | Label: PERSON\n",
      "Polarity: 0.0, Subjectivity: 0.0\n",
      "Entity lemma: wildfire | Label: DISASTER\n",
      "Entity lemma: california | Label: GPE\n",
      "Entity lemma: mexico | Label: GPE\n",
      "Polarity: -0.2, Subjectivity: 0.4\n",
      "Entity lemma: tidal wave | Label: DISASTER\n",
      "Entity lemma: tokyo | Label: GPE\n",
      "Polarity: 0.39999999999999997, Subjectivity: 0.9\n",
      "Entity lemma: show man | Label: PERSON\n",
      "Polarity: 0.05, Subjectivity: 0.1\n"
     ]
    }
   ],
   "source": [
    "#TESTING\n",
    "\n",
    "nlp = spacy.load(\"disaster_ner\")\n",
    "def test_model(text):\n",
    "    doc = nlp(text)\n",
    "    for ent in doc.ents:\n",
    "        print(f\"Entity lemma: {ent.lemma_.lower()} | Label: {ent.label_}\")\n",
    "    print(f\"Polarity: {doc._.blob.polarity}, Subjectivity: {doc._.blob.subjectivity}\")\n",
    "#print(df1.loc[0, \"tweet_text\"])\n",
    "\n",
    "test_model(\"RT @Cal_OES: PLS SHARE: Were capturing Wildfire response, recovery info here:\")\n",
    "test_model(\"PHOTOS: Deadly wildfires rage in California and Mexico\")\n",
    "#test_model(df1.loc[0, \"tweet_text\"])\n",
    "test_model(\"Huge tidal waves hit Tokyo\")\n",
    "test_model(\"Were going to f*****g die dude! Video Shows Men Barely Escape California Fire [Video] \")"
   ]
  },
  {
   "cell_type": "code",
   "execution_count": 54,
   "id": "a6467fe7-d754-421d-8689-da93944c7836",
   "metadata": {
    "scrolled": true
   },
   "outputs": [],
   "source": [
    "#extract entities and sentiment from tweet text\n",
    "\n",
    "headers = [\"Negative\", \"Neutral\", \"Positive\"]\n",
    "def extract_ent_sent(text):\n",
    "    #print(text)\n",
    "    doc = nlp(text)\n",
    "    disasters = []\n",
    "    locations = []\n",
    "    sentiment = headers[1]\n",
    "    score = doc._.blob.polarity\n",
    "    \n",
    "    for ent in doc.ents:\n",
    "        if ent.label_ == \"DISASTER\":\n",
    "            lemma_str = \" \".join(token.lemma_.lower() for token in ent)\n",
    "            disasters.append(lemma_str)\n",
    "        elif ent.label_ in [\"GPE\", \"FAC\"]:\n",
    "            raw_location = ent.text.strip()\n",
    "\n",
    "            match_row = standardize_location(raw_location, gazetteer_df)\n",
    "\n",
    "            if match_row is not None:\n",
    "                standardized_name = match_row[\"name\"]\n",
    "                locations.append(standardized_name)\n",
    "            else:\n",
    "                locations.append(raw_location)\n",
    "    \n",
    "    if score >= 0.1:\n",
    "        sentiment = headers[2]\n",
    "    elif score < 0:\n",
    "        sentiment = headers[0]\n",
    "    else:\n",
    "        sentiment = headers[1]\n",
    "\n",
    "    return {\"disasters\": disasters, \"locations\": locations, \"sentiment\": sentiment, \"polarity\": score}\n"
   ]
  },
  {
   "cell_type": "code",
   "execution_count": 26,
   "id": "f398cb63-f4ae-40c8-a159-0244bb98bae2",
   "metadata": {},
   "outputs": [
    {
     "name": "stdout",
     "output_type": "stream",
     "text": [
      "(array(['Negative', 'Neutral', 'Positive'], dtype=object), array([365, 904, 320]))\n",
      "AVG: -0.005510065220895327\n",
      "STD: 0.2564690835373256\n"
     ]
    },
    {
     "data": {
      "image/png": "[encoded data removed]",
      "text/plain": [
       "<Figure size 1000x600 with 1 Axes>"
      ]
     },
     "metadata": {},
     "output_type": "display_data"
    }
   ],
   "source": [
    "#Testing sentiment on california dataset, and graphing\n",
    "\n",
    "cali_df = pd.read_json(\"../data/california_wildfires_final_data.json\")\n",
    "cali_df = cali_df[[\"tweet_id\", \"tweet_text\"]]\n",
    "\n",
    "cali_df.loc[:, [\"disasters\", \"locations\", \"sentiment\", \"polarity\"]] = cali_df[\"tweet_text\"].apply(\n",
    "    lambda x: pd.Series(extract_ent_sent(x))\n",
    ")\n",
    "\n",
    "#print(cali_df.head())\n",
    "\n",
    "#get scores\n",
    "scores = cali_df[\"polarity\"].values\n",
    "avg_scores = cali_df[\"polarity\"].mean()\n",
    "scores_std = cali_df[\"polarity\"].std()\n",
    "sentiment = cali_df[\"sentiment\"].values\n",
    "print(np.unique(sentiment, return_counts=True))\n",
    "print(f\"AVG: {avg_scores}\\nSTD: {scores_std}\")\n",
    "\n",
    "# Create figure\n",
    "plt.figure(figsize=(10, 6))\n",
    "\n",
    "# Plot histogram\n",
    "plt.hist(scores, bins=20, range=(-1, 1), \n",
    "         edgecolor='black', alpha=0.7, \n",
    "         color='steelblue', density=True)\n",
    "\n",
    "# Add labels and style\n",
    "plt.title('Polarity Score Distribution for California dataset', fontsize=14)\n",
    "plt.xlabel('Polarity Score', fontsize=12)\n",
    "plt.ylabel('Density', fontsize=12)\n",
    "plt.grid(True, alpha=0.3)\n",
    "\n",
    "# Add reference lines for typical sentiment thresholds\n",
    "plt.axvline(0, color='gray', linestyle='--', alpha=0.7)\n",
    "plt.axvline(0.1, color='gray', linestyle='--', alpha=0.7)\n",
    "plt.text(-0.35, plt.ylim()[1]*0.9, 'Negative', ha='center', color='firebrick')\n",
    "plt.text(0, plt.ylim()[1]*0.9, 'Neutral', ha='center', color='gray')\n",
    "plt.text(0.35, plt.ylim()[1]*0.9, 'Positive', ha='center', color='seagreen')\n",
    "\n",
    "plt.show()"
   ]
  },
  {
   "cell_type": "code",
   "execution_count": 55,
   "id": "bb3789a9-6205-49a2-8d6f-c5d0a0b7b01b",
   "metadata": {},
   "outputs": [
    {
     "name": "stdout",
     "output_type": "stream",
     "text": [
      "Processing datasets...\n",
      "Failed to process all datasets: The truth value of a DataFrame is ambiguous. Use a.empty, a.bool(), a.item(), a.any() or a.all().\n"
     ]
    }
   ],
   "source": [
    "# process all datasets together for dash demo\n",
    "try:\n",
    "    print(\"Processing datasets...\")\n",
    "    df.loc[:, [\"disasters\", \"locations\", \"sentiment\", \"polarity\"]] = df[\"tweet_text\"].apply(\n",
    "        lambda x: pd.Series(extract_ent_sent(x))\n",
    "    )\n",
    "except Exception as e:\n",
    "    print(f\"Failed to process all datasets: {e}\")"
   ]
  },
  {
   "cell_type": "code",
   "execution_count": 28,
   "id": "a3ab3695-13cf-4a94-a30a-7c2a1b66b36d",
   "metadata": {},
   "outputs": [
    {
     "name": "stdout",
     "output_type": "stream",
     "text": [
      "      disasters    locations  count  avg_sentiment\n",
      "202    wildfire   california    250          -0.04\n",
      "49   earthquake       mexico    204          -0.04\n",
      "34   earthquake         iran    128          -0.01\n",
      "35   earthquake         iraq     88          -0.01\n",
      "53   earthquake  mexico city     56          -0.01\n",
      "..          ...          ...    ...            ...\n",
      "231    wildfire       topeka      1           0.70\n",
      "230    wildfire       states      1          -0.24\n",
      "235    wildfire      weather      1          -0.20\n",
      "236    wildfire    wisconsin      1          -0.20\n",
      "237    wildfire     yosemite      1           0.10\n",
      "\n",
      "[238 rows x 4 columns]\n"
     ]
    }
   ],
   "source": [
    "#adding sentiment average\n",
    "\n",
    "exploded = df.explode(\"disasters\").explode('locations').dropna()\n",
    "# new stuff\n",
    "#print(df.head())\n",
    "#print(df[df.sentiment != 'Neutral'].head())\n",
    "\n",
    "#filtering all neutral counts to just get average of pos - neg values\n",
    "filtered = df[df.sentiment != 'Neutral'].explode(\"disasters\").explode('locations').dropna()\n",
    "\n",
    "crisis_counts = (\n",
    "    filtered.groupby([\"disasters\", \"locations\"])\n",
    "    .agg(\n",
    "        count=('disasters', 'size'),\n",
    "        avg_sentiment=('polarity', 'mean')\n",
    "    )\n",
    "    .reset_index()\n",
    "    .sort_values(\"count\", ascending=False)\n",
    "    .round({'avg_sentiment': 2})\n",
    ")\n",
    "\n",
    "print(crisis_counts)\n"
   ]
  },
  {
   "cell_type": "code",
   "execution_count": 29,
   "id": "66a7fa91-672f-4fc0-bf20-aa62325298a0",
   "metadata": {},
   "outputs": [
    {
     "name": "stdout",
     "output_type": "stream",
     "text": [
      "      disasters    locations  count  avg_sentiment   severity\n",
      "202    wildfire   california    250          -0.04  10.561650\n",
      "49   earthquake       mexico    204          -0.04   8.579904\n",
      "34   earthquake         iran    128          -0.01   5.305715\n",
      "35   earthquake         iraq     88          -0.01   3.582457\n",
      "53   earthquake  mexico city     56          -0.01   2.203851\n",
      "..          ...          ...    ...            ...        ...\n",
      "231    wildfire       topeka      1           0.70  -0.165628\n",
      "230    wildfire       states      1          -0.24  -0.165628\n",
      "235    wildfire      weather      1          -0.20  -0.165628\n",
      "236    wildfire    wisconsin      1          -0.20  -0.165628\n",
      "237    wildfire     yosemite      1           0.10  -0.165628\n",
      "\n",
      "[238 rows x 5 columns]\n"
     ]
    }
   ],
   "source": [
    "# calculating severity:\n",
    "mean = crisis_counts[\"count\"].mean()\n",
    "std = crisis_counts[\"count\"].std()\n",
    "\n",
    "#z score\n",
    "crisis_counts[\"severity\"] = (crisis_counts[\"count\"] - mean) / std\n",
    "\n",
    "print(crisis_counts)"
   ]
  },
  {
   "cell_type": "code",
   "execution_count": 30,
   "id": "29f72025-f9dd-463d-92e9-f6b7028912c2",
   "metadata": {},
   "outputs": [
    {
     "name": "stdout",
     "output_type": "stream",
     "text": [
      "      disasters    locations  count  avg_sentiment   severity\n",
      "202    wildfire   california    250          -0.04  10.561650\n",
      "49   earthquake       mexico    204          -0.04   8.579904\n",
      "34   earthquake         iran    128          -0.01   5.305715\n",
      "35   earthquake         iraq     88          -0.01   3.582457\n",
      "53   earthquake  mexico city     56          -0.01   2.203851\n",
      "..          ...          ...    ...            ...        ...\n",
      "231    wildfire       topeka      1           0.70  -0.165628\n",
      "230    wildfire       states      1          -0.24  -0.165628\n",
      "235    wildfire      weather      1          -0.20  -0.165628\n",
      "236    wildfire    wisconsin      1          -0.20  -0.165628\n",
      "237    wildfire     yosemite      1           0.10  -0.165628\n",
      "\n",
      "[238 rows x 5 columns]\n",
      "None\n"
     ]
    }
   ],
   "source": [
    "# convert to json and store in a file\n",
    "\n",
    "print(crisis_counts)\n",
    "csv = crisis_counts.to_csv('./demo/crisis_counts.csv', index=False)\n",
    "print(csv)"
   ]
  },
  {
   "cell_type": "code",
   "execution_count": null,
   "id": "f354fc6a-f9e6-46c9-8057-726451ada3f1",
   "metadata": {},
   "outputs": [],
   "source": []
  }
 ],
 "metadata": {
  "kernelspec": {
   "display_name": "Python 3 (ipykernel)",
   "language": "python",
   "name": "python3"
  },
  "language_info": {
   "codemirror_mode": {
    "name": "ipython",
    "version": 3
   },
   "file_extension": ".py",
   "mimetype": "text/x-python",
   "name": "python",
   "nbconvert_exporter": "python",
   "pygments_lexer": "ipython3",
   "version": "3.12.9"
  }
 },
 "nbformat": 4,
 "nbformat_minor": 5
}
